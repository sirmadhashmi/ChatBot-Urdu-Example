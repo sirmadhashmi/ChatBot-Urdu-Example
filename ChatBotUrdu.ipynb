{
 "cells": [
  {
   "cell_type": "code",
   "execution_count": null,
   "metadata": {},
   "outputs": [],
   "source": [
    "#ChatBot With Urdu Greeting Corpus**\n",
    "#Import are following"
   ]
  },
  {
   "cell_type": "code",
   "execution_count": null,
   "metadata": {},
   "outputs": [],
   "source": []
  },
  {
   "cell_type": "code",
   "execution_count": 76,
   "metadata": {},
   "outputs": [],
   "source": [
    "# server socket programming library\n",
    "from SimpleWebSocketServer import SimpleWebSocketServer, WebSocket\n",
    "# chatterbot library for creating chatbot\n",
    "from chatterbot import ChatBot\n",
    "# chatterbot training function \n",
    "from chatterbot.trainers import ListTrainer\n",
    "# operating system function is called to interect with local system file\n",
    "import os\n",
    "# imported but not used\n",
    "from chatterbot.trainers import ChatterBotCorpusTrainer"
   ]
  },
  {
   "cell_type": "code",
   "execution_count": 113,
   "metadata": {},
   "outputs": [
    {
     "name": "stdout",
     "output_type": "stream",
     "text": [
      "List Trainer: [####################] 100%\n",
      "Training completed\n"
     ]
    }
   ],
   "source": [
    "# define a function/method for traning the corpus\n",
    "def UrduBot():\n",
    "# path of a urdu corpus\n",
    "    path = 'C:/Users/Sirmad Hashmi/Documents/sch/chatbot/Chatbot_Project-master/data/'\n",
    "# defining the name of the chatbot as \"SirmadBot\" and training type as \"ListTrainer\"\n",
    "    chatbot = ChatBot('SirmadBot',\n",
    "                      trainer='chatterbot.trainers.ListTrainer')\n",
    "# for loop is defined for locating the file in the directory \n",
    "    for file in os.listdir(path):\n",
    "# file opening process is here \"r\" is included for reading whole directory and \"readline\" function is reading line by line\n",
    "        convData = open(path + file , 'r',encoding='latin-1').readlines()\n",
    "# setting the trainer for chatbot \"ListTrainer\"        \n",
    "        chatbot.set_trainer(ListTrainer)\n",
    "# traing the chatbot with urdu corpus according to ListTrainer      \n",
    "        chatbot.train(convData)\n",
    "# printing method is indicating the training is completed after each training this statement will print    \n",
    "        print(\"Training completed\")\n",
    "        \n",
    "\n",
    "    \n",
    "# function is called below to train\n",
    "UrduBot()\n"
   ]
  },
  {
   "cell_type": "code",
   "execution_count": 117,
   "metadata": {},
   "outputs": [],
   "source": [
    "# define a function/method for testing our data\n",
    "def get_response(usrText):\n",
    "# define bot with chatbot fuction and list of logical function to make accurate decisions\n",
    "    bot = ChatBot('SirmadBot',\n",
    "                \n",
    "    logic_adapters=[\n",
    "        {\n",
    "            'import_path': 'chatterbot.logic.BestMatch'\n",
    "        },\n",
    "        {\n",
    "            'import_path': 'chatterbot.logic.LowConfidenceAdapter',\n",
    "# threshold is set if the accuracy is atlest 50 percent then display\n",
    "            'threshold': 0.50,\n",
    "# if threshold value does not match display default response\n",
    "            'default_response': 'I am sorry, but I do not understand.'\n",
    "        }\n",
    "    ],\n",
    "# defining the trainer type as \"ListTrainer\"\n",
    "    trainer='chatterbot.trainers.ListTrainer')\n",
    "# setting the trainer for chatbot \"ListTrainer\"   \n",
    "    bot.set_trainer(ListTrainer)\n",
    "# program will continue until AllahHafiz is not written\n",
    "    while True:\n",
    "        if usrText.strip()!= 'AllahHafiz':\n",
    "            result = bot.get_response(usrText)                        \n",
    "            reply = str(result)\n",
    "            return(reply)\n",
    "        if usrText.strip() == 'AllahHafiz':\n",
    "            return('AllahHafiz')\n",
    "            break"
   ]
  },
  {
   "cell_type": "code",
   "execution_count": 119,
   "metadata": {},
   "outputs": [
    {
     "data": {
      "text/plain": [
       "'- Alhamdulillah, or Ap ka kya haal hai?'"
      ]
     },
     "execution_count": 119,
     "metadata": {},
     "output_type": "execute_result"
    }
   ],
   "source": [
    "get_response('Aoa, kya haal hai?')"
   ]
  }
 ],
 "metadata": {
  "kernelspec": {
   "display_name": "Python 3",
   "language": "python",
   "name": "python3"
  }
 },
 "nbformat": 4,
 "nbformat_minor": 2
}
